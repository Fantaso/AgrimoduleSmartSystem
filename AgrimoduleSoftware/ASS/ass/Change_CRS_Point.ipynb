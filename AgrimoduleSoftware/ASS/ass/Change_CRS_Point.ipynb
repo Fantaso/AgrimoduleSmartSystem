{
 "cells": [
  {
   "cell_type": "code",
   "execution_count": 6,
   "metadata": {},
   "outputs": [],
   "source": [
    "import pandas as pd\n",
    "import geopandas\n",
    "from shapely.geometry import Point\n",
    "import matplotlib.pyplot as plt"
   ]
  },
  {
   "cell_type": "code",
   "execution_count": 8,
   "metadata": {},
   "outputs": [],
   "source": [
    "h=pd.DataFrame({'zip':[19152,19047],\n",
    "               'Lat':[40.058841,40.202162],\n",
    "               'Lon':[-75.042164,-74.924594]})\n",
    "\n",
    "geometry = [Point(xy) for xy in zip(h.Lon, h.Lat)]\n",
    "hg = geopandas.GeoDataFrame(h, geometry=geometry)\n",
    "\n",
    "hg.crs = {'init' :'epsg:4326'}  \n",
    "# ^ comment out to get a \"Cannot transform naive geometries\" error below\n",
    "\n",
    "# project to merkator\n",
    "\n"
   ]
  },
  {
   "cell_type": "code",
   "execution_count": 9,
   "metadata": {},
   "outputs": [
    {
     "data": {
      "text/html": [
       "<div>\n",
       "<style scoped>\n",
       "    .dataframe tbody tr th:only-of-type {\n",
       "        vertical-align: middle;\n",
       "    }\n",
       "\n",
       "    .dataframe tbody tr th {\n",
       "        vertical-align: top;\n",
       "    }\n",
       "\n",
       "    .dataframe thead th {\n",
       "        text-align: right;\n",
       "    }\n",
       "</style>\n",
       "<table border=\"1\" class=\"dataframe\">\n",
       "  <thead>\n",
       "    <tr style=\"text-align: right;\">\n",
       "      <th></th>\n",
       "      <th>zip</th>\n",
       "      <th>Lat</th>\n",
       "      <th>Lon</th>\n",
       "      <th>geometry</th>\n",
       "    </tr>\n",
       "  </thead>\n",
       "  <tbody>\n",
       "    <tr>\n",
       "      <th>0</th>\n",
       "      <td>19152</td>\n",
       "      <td>40.058841</td>\n",
       "      <td>-75.042164</td>\n",
       "      <td>POINT (-75.042164 40.058841)</td>\n",
       "    </tr>\n",
       "    <tr>\n",
       "      <th>1</th>\n",
       "      <td>19047</td>\n",
       "      <td>40.202162</td>\n",
       "      <td>-74.924594</td>\n",
       "      <td>POINT (-74.924594 40.202162)</td>\n",
       "    </tr>\n",
       "  </tbody>\n",
       "</table>\n",
       "</div>"
      ],
      "text/plain": [
       "     zip        Lat        Lon                      geometry\n",
       "0  19152  40.058841 -75.042164  POINT (-75.042164 40.058841)\n",
       "1  19047  40.202162 -74.924594  POINT (-74.924594 40.202162)"
      ]
     },
     "execution_count": 9,
     "metadata": {},
     "output_type": "execute_result"
    }
   ],
   "source": [
    "hg"
   ]
  },
  {
   "cell_type": "code",
   "execution_count": 10,
   "metadata": {},
   "outputs": [
    {
     "data": {
      "text/html": [
       "<div>\n",
       "<style scoped>\n",
       "    .dataframe tbody tr th:only-of-type {\n",
       "        vertical-align: middle;\n",
       "    }\n",
       "\n",
       "    .dataframe tbody tr th {\n",
       "        vertical-align: top;\n",
       "    }\n",
       "\n",
       "    .dataframe thead th {\n",
       "        text-align: right;\n",
       "    }\n",
       "</style>\n",
       "<table border=\"1\" class=\"dataframe\">\n",
       "  <thead>\n",
       "    <tr style=\"text-align: right;\">\n",
       "      <th></th>\n",
       "      <th>zip</th>\n",
       "      <th>Lat</th>\n",
       "      <th>Lon</th>\n",
       "      <th>geometry</th>\n",
       "    </tr>\n",
       "  </thead>\n",
       "  <tbody>\n",
       "    <tr>\n",
       "      <th>0</th>\n",
       "      <td>19152</td>\n",
       "      <td>40.058841</td>\n",
       "      <td>-75.042164</td>\n",
       "      <td>POINT (-5935706.450668433 10003537.08559287)</td>\n",
       "    </tr>\n",
       "    <tr>\n",
       "      <th>1</th>\n",
       "      <td>19047</td>\n",
       "      <td>40.202162</td>\n",
       "      <td>-74.924594</td>\n",
       "      <td>POINT (-5911086.314143598 9988049.727977535)</td>\n",
       "    </tr>\n",
       "  </tbody>\n",
       "</table>\n",
       "</div>"
      ],
      "text/plain": [
       "     zip        Lat        Lon                                      geometry\n",
       "0  19152  40.058841 -75.042164  POINT (-5935706.450668433 10003537.08559287)\n",
       "1  19047  40.202162 -74.924594  POINT (-5911086.314143598 9988049.727977535)"
      ]
     },
     "execution_count": 10,
     "metadata": {},
     "output_type": "execute_result"
    }
   ],
   "source": [
    "hg.to_crs({'init': 'epsg:32633'})"
   ]
  },
  {
   "cell_type": "code",
   "execution_count": null,
   "metadata": {},
   "outputs": [],
   "source": []
  }
 ],
 "metadata": {
  "kernelspec": {
   "display_name": "Python 3",
   "language": "python",
   "name": "python3"
  },
  "language_info": {
   "codemirror_mode": {
    "name": "ipython",
    "version": 3
   },
   "file_extension": ".py",
   "mimetype": "text/x-python",
   "name": "python",
   "nbconvert_exporter": "python",
   "pygments_lexer": "ipython3",
   "version": "3.6.6"
  }
 },
 "nbformat": 4,
 "nbformat_minor": 2
}
